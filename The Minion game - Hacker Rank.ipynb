{
 "cells": [
  {
   "cell_type": "code",
   "execution_count": null,
   "id": "6f7efd44",
   "metadata": {},
   "outputs": [],
   "source": [
    "# Question of the Hacker Rank\n",
    "'''Kevin and Stuart want to play the 'The Minion Game'.\n",
    "\n",
    "Game Rules\n",
    "\n",
    "Both players are given the same string, .\n",
    "Both players have to make substrings using the letters of the string .\n",
    "Stuart has to make words starting with consonants.\n",
    "Kevin has to make words starting with vowels.\n",
    "The game ends when both players have made all possible substrings.\n",
    "\n",
    "Scoring\n",
    "A player gets +1 point for each occurrence of the substring in the string .\n",
    "\n",
    "For Example:\n",
    "String  = BANANA\n",
    "Kevin's vowel beginning word = ANA\n",
    "Here, ANA occurs twice in BANANA. Hence, Kevin will get 2 Points.\n",
    "\n",
    "For better understanding, see the image below:\n",
    "\n",
    "banana.png\n",
    "\n",
    "Your task is to determine the winner of the game and their score.\n",
    "\n",
    "Function Description\n",
    "\n",
    "Complete the minion_game in the editor below.\n",
    "\n",
    "minion_game has the following parameters:\n",
    "\n",
    "string string: the string to analyze\n",
    "Prints\n",
    "\n",
    "string: the winner's name and score, separated by a space on one line, or Draw if there is no winner\n",
    "Input Format\n",
    "\n",
    "A single line of input containing the string .\n",
    "Note: The string  will contain only uppercase letters: .\n",
    "\n",
    "Constraints\n",
    "\n",
    "\n",
    "\n",
    "Sample Input\n",
    "\n",
    "BANANA\n",
    "Sample Output\n",
    "\n",
    "Stuart 12"
   ]
  },
  {
   "cell_type": "code",
   "execution_count": 1,
   "id": "c26999da",
   "metadata": {},
   "outputs": [
    {
     "name": "stdout",
     "output_type": "stream",
     "text": [
      "enter string: banana\n",
      "6\n",
      "4\n",
      "2\n",
      "Stuart 12\n"
     ]
    }
   ],
   "source": [
    "def minion_game(string):\n",
    "    s=len(string)\n",
    "    vowel = 0\n",
    "    consonant = 0\n",
    "     \n",
    "    for i in range(s):\n",
    "        if string[i] in 'AEIOU':\n",
    "            vowel+=(s-i)\n",
    "        else:\n",
    "            consonant+=(s-i)\n",
    "            print(s-i)\n",
    "                \n",
    "    if vowel < consonant:\n",
    "        print('Stuart ' + str(consonant))\n",
    "    elif vowel > consonant:\n",
    "        print('Kevin ' + str(vowel))\n",
    "    else:\n",
    "        print('Draw')\n",
    "string=input(\"enter string: \").upper()\n",
    "minion_game(string)"
   ]
  },
  {
   "cell_type": "code",
   "execution_count": null,
   "id": "4c626788",
   "metadata": {},
   "outputs": [],
   "source": []
  }
 ],
 "metadata": {
  "kernelspec": {
   "display_name": "Python 3",
   "language": "python",
   "name": "python3"
  },
  "language_info": {
   "codemirror_mode": {
    "name": "ipython",
    "version": 3
   },
   "file_extension": ".py",
   "mimetype": "text/x-python",
   "name": "python",
   "nbconvert_exporter": "python",
   "pygments_lexer": "ipython3",
   "version": "3.8.8"
  }
 },
 "nbformat": 4,
 "nbformat_minor": 5
}
